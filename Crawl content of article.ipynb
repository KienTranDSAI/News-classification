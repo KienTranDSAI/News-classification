{
 "cells": [
  {
   "cell_type": "code",
   "execution_count": 4,
   "id": "77e1a992",
   "metadata": {},
   "outputs": [],
   "source": [
    "from bs4 import BeautifulSoup\n",
    "import requests\n",
    "import json\n",
    "import re"
   ]
  },
  {
   "cell_type": "code",
   "execution_count": 5,
   "id": "79085067",
   "metadata": {},
   "outputs": [],
   "source": [
    "def crawl_content(url):\n",
    "    response = requests.get(url)\n",
    "    soup = BeautifulSoup(response.text, \"html.parser\")\n",
    "    try:\n",
    "        title = soup.find(itemprop = \"headline\").text.strip()\n",
    "    except:\n",
    "        title = \"None\"\n",
    "    try:\n",
    "        description = soup.find(\"p\", class_ = \"e-standfirst u-heading-4\").text.strip()\n",
    "    except:\n",
    "        description = \"None\"\n",
    "    try:\n",
    "        content = soup.find(itemprop=\"articleBody\").text.replace(\"\\n\",\" \").replace(\"\\t\",\" \")\n",
    "        crawled_data = re.sub(r'[^\\x00-\\x7F]\\'', ' ', content) \n",
    "        content = re.sub(r'\\s+', ' ', crawled_data)\n",
    "    except:\n",
    "        content = \"None\"\n",
    "    try:\n",
    "        topic = soup.find(\"ul\", class_ = \"related-topics__list\").text.replace(\"\\n\",\"\").replace(\"\\t\",\"\").split(\",\")\n",
    "    except:\n",
    "        topic = \"None\"\n",
    "    try:\n",
    "        time = soup.find(\"time\", class_ = \"e-published-date u-meta\")[\"datetime\"]\n",
    "    except:\n",
    "        time = \"None\"\n",
    "\n",
    "    return title, description, content, topic, time[:10]\n"
   ]
  },
  {
   "cell_type": "markdown",
   "id": "4028951f",
   "metadata": {},
   "source": [
    "# Business"
   ]
  },
  {
   "cell_type": "code",
   "execution_count": 6,
   "id": "5a2fda4a",
   "metadata": {},
   "outputs": [
    {
     "name": "stdout",
     "output_type": "stream",
     "text": [
      "1\n",
      "2\n"
     ]
    }
   ],
   "source": [
    "with open(\"links_v4.json\", \"r\") as file:\n",
    "    data = json.load(file)\n",
    "linkList = data[\"bussiness\"]\n",
    "myDict = {}\n",
    "id = 1\n",
    "for i in range(len(linkList)):\n",
    "    try:\n",
    "        title, description, content, topic, datetime = crawl_content(linkList[i])\n",
    "        newRow = {\"Title\": title, \"Description\": description, \"Content\": content, \"Topic\": topic, \"Time\": datetime}\n",
    "        myDict[id] = newRow\n",
    "        print(id)\n",
    "        id += 1\n",
    "    except:\n",
    "        print(\"error\")\n",
    "        continue"
   ]
  },
  {
   "cell_type": "code",
   "execution_count": null,
   "id": "a0a6f11b",
   "metadata": {},
   "outputs": [],
   "source": [
    "with open(\"Business.json\", \"w\") as file:\n",
    "    json.dump(myDict, file)"
   ]
  },
  {
   "cell_type": "markdown",
   "id": "0f65f96f",
   "metadata": {},
   "source": [
    "# Culture"
   ]
  },
  {
   "cell_type": "code",
   "execution_count": 8,
   "id": "fa489caa",
   "metadata": {},
   "outputs": [
    {
     "name": "stdout",
     "output_type": "stream",
     "text": [
      "1\n",
      "2\n"
     ]
    }
   ],
   "source": [
    "with open(\"links_v4.json\", \"r\") as file:\n",
    "    data = json.load(file)\n",
    "linkList = data[\"culture\"]\n",
    "myDict = {}\n",
    "id = 1\n",
    "for i in range(2):\n",
    "    try:\n",
    "        title, description, content, topic, datetime = crawl_content(linkList[i])\n",
    "        newRow = {\"Title\": title, \"Description\": description, \"Content\": content, \"Topic\": topic, \"Time\": datetime}\n",
    "        myDict[id] = newRow\n",
    "        print(id)\n",
    "        id += 1\n",
    "    except:\n",
    "        print(\"error\")\n",
    "        continue\n",
    "with open(\"Culture.json\", \"w\") as file:\n",
    "    json.dump(myDict, file)"
   ]
  },
  {
   "cell_type": "markdown",
   "id": "e06ee115",
   "metadata": {},
   "source": [
    "# Education"
   ]
  },
  {
   "cell_type": "code",
   "execution_count": null,
   "id": "dd22bc19",
   "metadata": {},
   "outputs": [],
   "source": [
    "with open(\"links_v4.json\", \"r\") as file:\n",
    "    data = json.load(file)\n",
    "linkList = data[\"education\"]\n",
    "myDict = {}\n",
    "id = 1\n",
    "for i in range(len(linkList)):\n",
    "    try:\n",
    "        title, description, content, topic, datetime = crawl_content(linkList[i])\n",
    "        newRow = {\"Title\": title, \"Description\": description, \"Content\": content, \"Topic\": topic, \"Time\": datetime}\n",
    "        myDict[id] = newRow\n",
    "        print(id)\n",
    "        id += 1\n",
    "    except:\n",
    "        print(\"error\")\n",
    "        continue\n",
    "with open(\"Education.json\", \"w\") as file:\n",
    "    json.dump(myDict, file)"
   ]
  },
  {
   "cell_type": "markdown",
   "id": "31d2f286",
   "metadata": {},
   "source": [
    "# Environment"
   ]
  },
  {
   "cell_type": "code",
   "execution_count": 10,
   "id": "0043a304",
   "metadata": {},
   "outputs": [
    {
     "name": "stdout",
     "output_type": "stream",
     "text": [
      "1\n",
      "2\n"
     ]
    }
   ],
   "source": [
    "with open(\"links_v4.json\", \"r\") as file:\n",
    "    data = json.load(file)\n",
    "linkList = data[\"environment\"]\n",
    "myDict = {}\n",
    "id = 1\n",
    "for i in range(len(linkList)):\n",
    "    try:\n",
    "        title, description, content, topic, datetime = crawl_content(linkList[i])\n",
    "        newRow = {\"Title\": title, \"Description\": description, \"Content\": content, \"Topic\": topic, \"Time\": datetime}\n",
    "        myDict[id] = newRow\n",
    "        print(id)\n",
    "        id += 1\n",
    "    except:\n",
    "        print(\"error\")\n",
    "        continue\n",
    "with open(\"Environment.json\", \"w\") as file:\n",
    "    json.dump(myDict, file)"
   ]
  },
  {
   "cell_type": "markdown",
   "id": "7aa37645",
   "metadata": {},
   "source": [
    "# Football"
   ]
  },
  {
   "cell_type": "code",
   "execution_count": null,
   "id": "1cd4b5bc",
   "metadata": {},
   "outputs": [],
   "source": [
    "with open(\"links_v4.json\", \"r\") as file:\n",
    "    data = json.load(file)\n",
    "linkList = data[\"football\"]\n",
    "myDict = {}\n",
    "id = 1\n",
    "for i in range(len(linkList)):\n",
    "    try:\n",
    "        title, description, content, topic, datetime = crawl_content(linkList[i])\n",
    "        newRow = {\"Title\": title, \"Description\": description, \"Content\": content, \"Topic\": topic, \"Time\": datetime}\n",
    "        myDict[id] = newRow\n",
    "        print(id)\n",
    "        id += 1\n",
    "    except:\n",
    "        print(\"error\")\n",
    "        continue\n",
    "with open(\"Football.json\", \"w\") as file:\n",
    "    json.dump(myDict, file)"
   ]
  },
  {
   "cell_type": "markdown",
   "id": "d24a05f4",
   "metadata": {},
   "source": [
    "# Health"
   ]
  },
  {
   "cell_type": "code",
   "execution_count": null,
   "id": "a91230e1",
   "metadata": {},
   "outputs": [],
   "source": [
    "with open(\"links_v4.json\", \"r\") as file:\n",
    "    data = json.load(file)\n",
    "linkList = data[\"health\"]\n",
    "myDict = {}\n",
    "id = 1\n",
    "for i in range(len(linkList)):\n",
    "    try:\n",
    "        title, description, content, topic, datetime = crawl_content(linkList[i])\n",
    "        newRow = {\"Title\": title, \"Description\": description, \"Content\": content, \"Topic\": topic, \"Time\": datetime}\n",
    "        myDict[id] = newRow\n",
    "        print(id)\n",
    "        id += 1\n",
    "    except:\n",
    "        print(\"error\")\n",
    "        continue"
   ]
  },
  {
   "cell_type": "markdown",
   "id": "c687f72c",
   "metadata": {},
   "source": [
    "# Global Health Security"
   ]
  },
  {
   "cell_type": "code",
   "execution_count": null,
   "id": "cbdbf906",
   "metadata": {},
   "outputs": [],
   "source": [
    "with open(\"links_v4.json\", \"r\") as file:\n",
    "    data = json.load(file)\n",
    "linkList = data[\"global health security\"]\n",
    "myDict = {}\n",
    "id = 1\n",
    "for i in range(len(linkList)):\n",
    "    try:\n",
    "        title, description, content, topic, datetime = crawl_content(linkList[i])\n",
    "        newRow = {\"Title\": title, \"Description\": description, \"Content\": content, \"Topic\": topic, \"Time\": datetime}\n",
    "        myDict[id] = newRow\n",
    "        print(id)\n",
    "        id += 1\n",
    "    except:\n",
    "        print(\"error\")\n",
    "        continue\n",
    "with open(\"GlobalHealthSecurity.json\", \"w\") as file:\n",
    "    json.dump(myDict, file)"
   ]
  },
  {
   "cell_type": "markdown",
   "id": "3da1f230",
   "metadata": {},
   "source": [
    "# Politics"
   ]
  },
  {
   "cell_type": "code",
   "execution_count": null,
   "id": "c1c01f3c",
   "metadata": {},
   "outputs": [],
   "source": [
    "with open(\"links_v4.json\", \"r\") as file:\n",
    "    data = json.load(file)\n",
    "linkList = data[\"politics\"]\n",
    "myDict = {}\n",
    "id = 1\n",
    "for i in range(len(linkList)):\n",
    "    try:\n",
    "        title, description, content, topic, datetime = crawl_content(linkList[i])\n",
    "        newRow = {\"Title\": title, \"Description\": description, \"Content\": content, \"Topic\": topic, \"Time\": datetime}\n",
    "        myDict[id] = newRow\n",
    "        print(id)\n",
    "        id += 1\n",
    "    except:\n",
    "        print(\"error\")\n",
    "        continue"
   ]
  },
  {
   "cell_type": "markdown",
   "id": "6a496da9",
   "metadata": {},
   "source": [
    "# Science"
   ]
  },
  {
   "cell_type": "code",
   "execution_count": null,
   "id": "8e35cf7f",
   "metadata": {},
   "outputs": [],
   "source": [
    "with open(\"links_v4.json\", \"r\") as file:\n",
    "    data = json.load(file)\n",
    "linkList = data[\"science\"]\n",
    "myDict = {}\n",
    "id = 1\n",
    "for i in range(len(linkList)):\n",
    "    try:\n",
    "        title, description, content, topic, datetime = crawl_content(linkList[i])\n",
    "        newRow = {\"Title\": title, \"Description\": description, \"Content\": content, \"Topic\": topic, \"Time\": datetime}\n",
    "        myDict[id] = newRow\n",
    "        print(id)\n",
    "        id += 1\n",
    "    except:\n",
    "        print(\"error\")\n",
    "        continue\n",
    "with open(\"Science.json\", \"w\") as file:\n",
    "    json.dump(myDict, file)"
   ]
  },
  {
   "cell_type": "markdown",
   "id": "beb389fd",
   "metadata": {},
   "source": [
    "# Techonology"
   ]
  },
  {
   "cell_type": "code",
   "execution_count": null,
   "id": "edf59822",
   "metadata": {},
   "outputs": [],
   "source": [
    "with open(\"links_v4.json\", \"r\") as file:\n",
    "    data = json.load(file)\n",
    "linkList = data[\"technology\"]\n",
    "myDict = {}\n",
    "id = 1\n",
    "for i in range(len(linkList)):\n",
    "    try:\n",
    "        title, description, content, topic, datetime = crawl_content(linkList[i])\n",
    "        newRow = {\"Title\": title, \"Description\": description, \"Content\": content, \"Topic\": topic, \"Time\": datetime}\n",
    "        myDict[id] = newRow\n",
    "        print(id)\n",
    "        id += 1\n",
    "    except:\n",
    "        print(\"error\")\n",
    "        continue"
   ]
  },
  {
   "cell_type": "markdown",
   "id": "cdaef5d5",
   "metadata": {},
   "source": [
    "# Travel"
   ]
  },
  {
   "cell_type": "code",
   "execution_count": null,
   "id": "64bad6dd",
   "metadata": {},
   "outputs": [],
   "source": [
    "with open(\"links_v4.json\", \"r\") as file:\n",
    "    data = json.load(file)\n",
    "linkList = data[\"travel\"]\n",
    "myDict = {}\n",
    "id = 1\n",
    "for i in range(len(linkList)):\n",
    "    try:\n",
    "        title, description, content, topic, datetime = crawl_content(linkList[i])\n",
    "        newRow = {\"Title\": title, \"Description\": description, \"Content\": content, \"Topic\": topic, \"Time\": datetime}\n",
    "        myDict[id] = newRow\n",
    "        print(id)\n",
    "        id += 1\n",
    "    except:\n",
    "        print(\"error\")\n",
    "        continue\n",
    "with open(\"Travel.json\", \"w\") as file:\n",
    "    json.dump(myDict, file)"
   ]
  },
  {
   "cell_type": "markdown",
   "id": "ed115a71",
   "metadata": {},
   "source": [
    "# Style"
   ]
  },
  {
   "cell_type": "code",
   "execution_count": null,
   "id": "3de33a77",
   "metadata": {},
   "outputs": [],
   "source": [
    "with open(\"links_v4.json\", \"r\") as file:\n",
    "    data = json.load(file)\n",
    "linkList = data[\"style\"]\n",
    "myDict = {}\n",
    "id = 1\n",
    "for i in range(len(linkList)):\n",
    "    try:\n",
    "        title, description, content, topic, datetime = crawl_content(linkList[i])\n",
    "        newRow = {\"Title\": title, \"Description\": description, \"Content\": content, \"Topic\": topic, \"Time\": datetime}\n",
    "        myDict[id] = newRow\n",
    "        print(id)\n",
    "        id += 1\n",
    "    except:\n",
    "        print(\"error\")\n",
    "        continue\n",
    "with open(\"Style.json\", \"w\") as file:\n",
    "    json.dump(myDict, file)"
   ]
  }
 ],
 "metadata": {
  "kernelspec": {
   "display_name": "Python 3 (ipykernel)",
   "language": "python",
   "name": "python3"
  },
  "language_info": {
   "codemirror_mode": {
    "name": "ipython",
    "version": 3
   },
   "file_extension": ".py",
   "mimetype": "text/x-python",
   "name": "python",
   "nbconvert_exporter": "python",
   "pygments_lexer": "ipython3",
   "version": "3.9.13"
  }
 },
 "nbformat": 4,
 "nbformat_minor": 5
}
