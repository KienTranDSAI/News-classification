{
 "cells": [
  {
   "cell_type": "markdown",
   "metadata": {},
   "source": [
    "# Heuristic model\n"
   ]
  },
  {
   "cell_type": "markdown",
   "metadata": {},
   "source": [
    "##### We have run this version on kaggle for convenient:\n",
    "https://www.kaggle.com/code/kientranhust/heuristic-models-based-on-similarity-of-words"
   ]
  },
  {
   "cell_type": "markdown",
   "metadata": {},
   "source": [
    "### Pretrained model: Word2Vec\n",
    "https://www.kaggle.com/datasets/leadbest/googlenewsvectorsnegative300"
   ]
  },
  {
   "cell_type": "code",
   "execution_count": 45,
   "metadata": {
    "execution": {
     "iopub.execute_input": "2023-12-27T16:38:27.565464Z",
     "iopub.status.busy": "2023-12-27T16:38:27.564951Z",
     "iopub.status.idle": "2023-12-27T16:38:27.610899Z",
     "shell.execute_reply": "2023-12-27T16:38:27.609700Z",
     "shell.execute_reply.started": "2023-12-27T16:38:27.565424Z"
    }
   },
   "outputs": [
    {
     "name": "stdout",
     "output_type": "stream",
     "text": [
      "[nltk_data] Downloading package wordnet to\n",
      "[nltk_data]     /kaggle/working/nltk_data...\n",
      "[nltk_data]   Package wordnet is already up-to-date!\n",
      "[nltk_data] Downloading package averaged_perceptron_tagger to\n",
      "[nltk_data]     /kaggle/working/nltk_data...\n",
      "[nltk_data]   Package averaged_perceptron_tagger is already up-to-\n",
      "[nltk_data]       date!\n"
     ]
    }
   ],
   "source": [
    "import json\n",
    "import os\n",
    "import json\n",
    "import pandas as pd\n",
    "import gensim\n",
    "from gensim.utils import simple_preprocess\n",
    "from gensim.parsing.preprocessing import STOPWORDS\n",
    "from nltk.stem import WordNetLemmatizer, SnowballStemmer\n",
    "from nltk.stem.porter import *\n",
    "import numpy as np\n",
    "import nltk\n",
    "\n",
    "## Run on kaglle\n",
    "# nltk.download('wordnet', download_dir = \"/kaggle/working/nltk_data\")\n",
    "# nltk.download('averaged_perceptron_tagger',download_dir = \"/kaggle/working/nltk_data\") \n",
    "\n",
    "nltk.download('wordnet')\n",
    "nltk.download('averaged_perceptron_tagger')\n",
    "\n",
    "from nltk.corpus import wordnet\n",
    "np.random.seed(2023)\n",
    "import random\n",
    "from sklearn.metrics import classification_report, confusion_matrix"
   ]
  },
  {
   "cell_type": "code",
   "execution_count": 2,
   "metadata": {
    "execution": {
     "iopub.execute_input": "2023-12-27T16:19:03.798514Z",
     "iopub.status.busy": "2023-12-27T16:19:03.797785Z",
     "iopub.status.idle": "2023-12-27T16:19:04.819591Z",
     "shell.execute_reply": "2023-12-27T16:19:04.818374Z",
     "shell.execute_reply.started": "2023-12-27T16:19:03.798479Z"
    },
    "scrolled": true
   },
   "outputs": [
    {
     "name": "stdout",
     "output_type": "stream",
     "text": [
      "mkdir: cannot create directory ‘/kaggle/working/nltk_data’: File exists\n"
     ]
    }
   ],
   "source": [
    "nltk.data.path.append('/kaggle/working/nltk_data')\n",
    "\n",
    "# Now, you should be able to use WordNet without any issues\n",
    "from nltk.corpus import wordnet\n",
    "!mkdir /kaggle/working/nltk_data"
   ]
  },
  {
   "cell_type": "code",
   "execution_count": 3,
   "metadata": {
    "execution": {
     "iopub.execute_input": "2023-12-27T16:19:04.821793Z",
     "iopub.status.busy": "2023-12-27T16:19:04.821397Z",
     "iopub.status.idle": "2023-12-27T16:19:04.891817Z",
     "shell.execute_reply": "2023-12-27T16:19:04.890489Z",
     "shell.execute_reply.started": "2023-12-27T16:19:04.821757Z"
    }
   },
   "outputs": [
    {
     "name": "stdout",
     "output_type": "stream",
     "text": [
      "[nltk_data] Downloading package wordnet to /usr/share/nltk_data...\n",
      "[nltk_data]   Package wordnet is already up-to-date!\n"
     ]
    }
   ],
   "source": [
    "#First, you're going to need to import wordnet:\n",
    "import nltk\n",
    "\n",
    "nltk.download('wordnet')\n",
    "from nltk.corpus import wordnet"
   ]
  },
  {
   "cell_type": "code",
   "execution_count": 4,
   "metadata": {
    "execution": {
     "iopub.execute_input": "2023-12-27T16:19:04.895313Z",
     "iopub.status.busy": "2023-12-27T16:19:04.894848Z",
     "iopub.status.idle": "2023-12-27T16:19:06.287744Z",
     "shell.execute_reply": "2023-12-27T16:19:06.286635Z",
     "shell.execute_reply.started": "2023-12-27T16:19:04.895256Z"
    }
   },
   "outputs": [
    {
     "name": "stdout",
     "output_type": "stream",
     "text": [
      "Archive:  /usr/share/nltk_data/corpora/wordnet.zip\n",
      "   creating: /usr/share/nltk_data/corpora/wordnet/\n",
      "  inflating: /usr/share/nltk_data/corpora/wordnet/lexnames  \n",
      "  inflating: /usr/share/nltk_data/corpora/wordnet/data.verb  \n",
      "  inflating: /usr/share/nltk_data/corpora/wordnet/index.adv  \n",
      "  inflating: /usr/share/nltk_data/corpora/wordnet/adv.exc  \n",
      "  inflating: /usr/share/nltk_data/corpora/wordnet/index.verb  \n",
      "  inflating: /usr/share/nltk_data/corpora/wordnet/cntlist.rev  \n",
      "  inflating: /usr/share/nltk_data/corpora/wordnet/data.adj  \n",
      "  inflating: /usr/share/nltk_data/corpora/wordnet/index.adj  \n",
      "  inflating: /usr/share/nltk_data/corpora/wordnet/LICENSE  \n",
      "  inflating: /usr/share/nltk_data/corpora/wordnet/citation.bib  \n",
      "  inflating: /usr/share/nltk_data/corpora/wordnet/noun.exc  \n",
      "  inflating: /usr/share/nltk_data/corpora/wordnet/verb.exc  \n",
      "  inflating: /usr/share/nltk_data/corpora/wordnet/README  \n",
      "  inflating: /usr/share/nltk_data/corpora/wordnet/index.sense  \n",
      "  inflating: /usr/share/nltk_data/corpora/wordnet/data.noun  \n",
      "  inflating: /usr/share/nltk_data/corpora/wordnet/data.adv  \n",
      "  inflating: /usr/share/nltk_data/corpora/wordnet/index.noun  \n",
      "  inflating: /usr/share/nltk_data/corpora/wordnet/adj.exc  \n"
     ]
    }
   ],
   "source": [
    "!unzip /usr/share/nltk_data/corpora/wordnet.zip -d /usr/share/nltk_data/corpora/"
   ]
  },
  {
   "cell_type": "markdown",
   "metadata": {},
   "source": [
    "# Preprocessing data"
   ]
  },
  {
   "cell_type": "code",
   "execution_count": 5,
   "metadata": {
    "execution": {
     "iopub.execute_input": "2023-12-27T16:19:06.290405Z",
     "iopub.status.busy": "2023-12-27T16:19:06.289914Z",
     "iopub.status.idle": "2023-12-27T16:19:06.301525Z",
     "shell.execute_reply": "2023-12-27T16:19:06.300142Z",
     "shell.execute_reply.started": "2023-12-27T16:19:06.290359Z"
    }
   },
   "outputs": [],
   "source": [
    "def lemmatize_stemming(text):\n",
    "    result = WordNetLemmatizer().lemmatize(text, pos='v')\n",
    "    result = WordNetLemmatizer().lemmatize(result, pos='n')\n",
    "    result = WordNetLemmatizer().lemmatize(result, pos='a')\n",
    "    return result\n",
    "\n",
    "def preprocess(text):\n",
    "    result = []\n",
    "    for token in gensim.utils.simple_preprocess(text):\n",
    "        if token not in gensim.parsing.preprocessing.STOPWORDS and len(token) > 3:\n",
    "            result.append(lemmatize_stemming(token))\n",
    "    return \" \".join(result)"
   ]
  },
  {
   "cell_type": "code",
   "execution_count": 6,
   "metadata": {
    "execution": {
     "iopub.execute_input": "2023-12-27T16:19:06.303645Z",
     "iopub.status.busy": "2023-12-27T16:19:06.303133Z",
     "iopub.status.idle": "2023-12-27T16:19:06.310750Z",
     "shell.execute_reply": "2023-12-27T16:19:06.309619Z",
     "shell.execute_reply.started": "2023-12-27T16:19:06.303599Z"
    }
   },
   "outputs": [],
   "source": [
    "def count_word_appearances(sentence, wordDict):\n",
    "    # Split the sentence into words\n",
    "    words = sentence.split()\n",
    "\n",
    "\n",
    "    # Iterate through each word in the list\n",
    "    for word in words:\n",
    "        # Remove punctuation and convert to lowercase for case-insensitive counting\n",
    "        word = word.strip('.,!?\"\\'').lower()\n",
    "\n",
    "        wordDict[word] = wordDict.get(word, 0) + 1\n",
    "\n",
    "    return wordDict\n",
    "\n"
   ]
  },
  {
   "cell_type": "code",
   "execution_count": 7,
   "metadata": {
    "execution": {
     "iopub.execute_input": "2023-12-27T16:19:06.312751Z",
     "iopub.status.busy": "2023-12-27T16:19:06.312253Z",
     "iopub.status.idle": "2023-12-27T16:19:06.321839Z",
     "shell.execute_reply": "2023-12-27T16:19:06.320670Z",
     "shell.execute_reply.started": "2023-12-27T16:19:06.312705Z"
    }
   },
   "outputs": [],
   "source": [
    "## Wrapping into function\n",
    "def mostFrequentWord(content = None, path = None):\n",
    "    myDict = {}\n",
    "    if path:\n",
    "        with open(path, 'r') as file:\n",
    "            data = json.load(file)\n",
    "        totalDoc = \"\"\n",
    "        countDrop = 0\n",
    "        for key in data.keys():\n",
    "            if data[key]['Content'] != \"None\":\n",
    "                totalDoc += \" \" + preprocess(data[key]['Content'])\n",
    "            else:\n",
    "                countDrop += 1\n",
    "        print(f\"Number of articles with no content is {countDrop}\")\n",
    "    else: \n",
    "        totalDoc = preprocess(content)\n",
    "    myDict = count_word_appearances(totalDoc, myDict)\n",
    "    sortedDict = sorted(myDict.items(), key = lambda x:x[1], reverse = True)\n",
    "    return sortedDict"
   ]
  },
  {
   "cell_type": "code",
   "execution_count": 8,
   "metadata": {
    "execution": {
     "iopub.execute_input": "2023-12-27T16:19:06.323904Z",
     "iopub.status.busy": "2023-12-27T16:19:06.323468Z",
     "iopub.status.idle": "2023-12-27T16:19:06.332796Z",
     "shell.execute_reply": "2023-12-27T16:19:06.331611Z",
     "shell.execute_reply.started": "2023-12-27T16:19:06.323837Z"
    }
   },
   "outputs": [],
   "source": [
    "#Check whether a word is a noun or not\n",
    "def isNoun(word):\n",
    "    words = [word]\n",
    "    ans = nltk.pos_tag(words) \n",
    "    val = ans[0][1]\n",
    "    if(val == 'NN' or val == 'NNS' or val == 'NNPS' or val == 'NNP'): \n",
    "        return True \n",
    "    return False"
   ]
  },
  {
   "cell_type": "code",
   "execution_count": 9,
   "metadata": {
    "execution": {
     "iopub.execute_input": "2023-12-27T16:19:06.334492Z",
     "iopub.status.busy": "2023-12-27T16:19:06.334010Z",
     "iopub.status.idle": "2023-12-27T16:19:06.343195Z",
     "shell.execute_reply": "2023-12-27T16:19:06.341895Z",
     "shell.execute_reply.started": "2023-12-27T16:19:06.334406Z"
    }
   },
   "outputs": [],
   "source": [
    "## Function to get top 100\n",
    "def getTopWord(customDict, top_n = 100):\n",
    "    topNoun = []\n",
    "    countt = 0\n",
    "    for word in customDict:\n",
    "        if (isNoun(word[0])):\n",
    "            topNoun.append(word[0])\n",
    "            countt += 1\n",
    "        if countt == top_n:\n",
    "            break\n",
    "    return topNoun"
   ]
  },
  {
   "cell_type": "code",
   "execution_count": 10,
   "metadata": {
    "execution": {
     "iopub.execute_input": "2023-12-27T16:19:06.347674Z",
     "iopub.status.busy": "2023-12-27T16:19:06.347180Z",
     "iopub.status.idle": "2023-12-27T16:19:06.355986Z",
     "shell.execute_reply": "2023-12-27T16:19:06.354623Z",
     "shell.execute_reply.started": "2023-12-27T16:19:06.347627Z"
    }
   },
   "outputs": [],
   "source": [
    "top_n = 100"
   ]
  },
  {
   "cell_type": "code",
   "execution_count": 11,
   "metadata": {
    "execution": {
     "iopub.execute_input": "2023-12-27T16:19:06.358100Z",
     "iopub.status.busy": "2023-12-27T16:19:06.357690Z",
     "iopub.status.idle": "2023-12-27T16:19:17.321627Z",
     "shell.execute_reply": "2023-12-27T16:19:17.320461Z",
     "shell.execute_reply.started": "2023-12-27T16:19:06.358064Z"
    }
   },
   "outputs": [],
   "source": [
    "# with open(\"/kaggle/input/the-telegraph/Business.json\", 'r') as file:\n",
    "#     businessData = json.load(file)\n",
    "# with open('/kaggle/input/the-telegraph/Culture.json', 'r') as file:\n",
    "#     cultureData = json.load(file)\n",
    "# with open('/kaggle/input/the-telegraph/Education.json', 'r') as file:\n",
    "#     educationData = json.load(file)\n",
    "# with open('/kaggle/input/the-telegraph/Environment.json', 'r') as file:\n",
    "#     environmentData = json.load(file)\n",
    "# with open('/kaggle/input/the-telegraph/Football.json', 'r') as file:\n",
    "#     footballData = json.load(file)\n",
    "# with open('/kaggle/input/the-telegraph/Health.json', 'r') as file:\n",
    "#     healthData = json.load(file)\n",
    "# with open('/kaggle/input/the-telegraph/Politics.json', 'r') as file:\n",
    "#     politicsData = json.load(file)\n",
    "# with open('/kaggle/input/the-telegraph/Science.json', 'r') as file:\n",
    "#     scienceData = json.load(file)\n",
    "# with open('/kaggle/input/the-telegraph/Style.json', 'r') as file:\n",
    "#     styleData = json.load(file)\n",
    "# with open('/kaggle/input/the-telegraph/Technology.json', 'r') as file:\n",
    "#     technologyData = json.load(file)\n",
    "# with open('/kaggle/input/the-telegraph/Travel.json', 'r') as file:\n",
    "#     travelData = json.load(file)\n",
    "with open(\"data/Business.json\", 'r') as file:\n",
    "    businessData = json.load(file)\n",
    "with open('data/Culture.json', 'r') as file:\n",
    "    cultureData = json.load(file)\n",
    "with open('data/Education.json', 'r') as file:\n",
    "    educationData = json.load(file)\n",
    "with open('data/Environment.json', 'r') as file:\n",
    "    environmentData = json.load(file)\n",
    "with open('data/Football.json', 'r') as file:\n",
    "    footballData = json.load(file)\n",
    "with open('data/Health.json', 'r') as file:\n",
    "    healthData = json.load(file)\n",
    "with open('data/Politics.json', 'r') as file:\n",
    "    politicsData = json.load(file)\n",
    "with open('data/Science.json', 'r') as file:\n",
    "    scienceData = json.load(file)\n",
    "with open('data/Style.json', 'r') as file:\n",
    "    styleData = json.load(file)\n",
    "with open('data/Technology.json', 'r') as file:\n",
    "    technologyData = json.load(file)\n",
    "with open('data/Travel.json', 'r') as file:\n",
    "    travelData = json.load(file)"
   ]
  },
  {
   "cell_type": "code",
   "execution_count": null,
   "metadata": {},
   "outputs": [],
   "source": []
  },
  {
   "cell_type": "markdown",
   "metadata": {},
   "source": [
    "## Business"
   ]
  },
  {
   "cell_type": "code",
   "execution_count": 12,
   "metadata": {
    "execution": {
     "iopub.execute_input": "2023-12-27T16:19:17.323294Z",
     "iopub.status.busy": "2023-12-27T16:19:17.322913Z",
     "iopub.status.idle": "2023-12-27T16:19:19.407825Z",
     "shell.execute_reply": "2023-12-27T16:19:19.406311Z",
     "shell.execute_reply.started": "2023-12-27T16:19:17.323246Z"
    }
   },
   "outputs": [],
   "source": [
    "## Read data\n",
    "with open(\"data/Business.json\", 'r') as file:\n",
    "    businessData = json.load(file)\n",
    "with open(\"data/Company.json\", \"r\") as file:\n",
    "    companyData = json.load(file)\n",
    "with open(\"data/Market.json\", \"r\") as file:\n",
    "    marketData = json.load(file)\n",
    "    "
   ]
  },
  {
   "cell_type": "code",
   "execution_count": 13,
   "metadata": {
    "execution": {
     "iopub.execute_input": "2023-12-27T16:19:19.409746Z",
     "iopub.status.busy": "2023-12-27T16:19:19.409336Z",
     "iopub.status.idle": "2023-12-27T16:22:08.193147Z",
     "shell.execute_reply": "2023-12-27T16:22:08.191847Z",
     "shell.execute_reply.started": "2023-12-27T16:19:19.409709Z"
    }
   },
   "outputs": [
    {
     "name": "stdout",
     "output_type": "stream",
     "text": [
      "Number of articles with None content is: 12\n",
      "Done!\n"
     ]
    }
   ],
   "source": [
    "totalDoc = \"\"\n",
    "countDrop = 0\n",
    "\n",
    "for key in businessData.keys():\n",
    "    if businessData[key]['Content'] != \"None\":\n",
    "        totalDoc += \" \" + preprocess(businessData[key]['Content'])\n",
    "    else:\n",
    "        countDrop += 1\n",
    "for key in companyData.keys():\n",
    "    if companyData[key]['Content'] != \"None\":\n",
    "        totalDoc += \" \" + preprocess(companyData[key]['Content'])\n",
    "    else:\n",
    "        countDrop += 1\n",
    "for key in marketData.keys():\n",
    "    if marketData[key]['Content'] != \"None\":\n",
    "        totalDoc += \" \" + preprocess(marketData[key]['Content'])\n",
    "    else:\n",
    "        countDrop += 1\n",
    "print(\"Number of articles with None content is: \" + str(countDrop))\n",
    "print(\"Done!\")"
   ]
  },
  {
   "cell_type": "code",
   "execution_count": 14,
   "metadata": {
    "execution": {
     "iopub.execute_input": "2023-12-27T16:22:08.195347Z",
     "iopub.status.busy": "2023-12-27T16:22:08.194956Z",
     "iopub.status.idle": "2023-12-27T16:24:27.697256Z",
     "shell.execute_reply": "2023-12-27T16:24:27.696146Z",
     "shell.execute_reply.started": "2023-12-27T16:22:08.195305Z"
    }
   },
   "outputs": [
    {
     "data": {
      "text/plain": [
       "100"
      ]
     },
     "execution_count": 14,
     "metadata": {},
     "output_type": "execute_result"
    }
   ],
   "source": [
    "businessDict = mostFrequentWord(content = totalDoc)\n",
    "topBusiness = getTopWord(businessDict, top_n)\n",
    "len(topBusiness)"
   ]
  },
  {
   "cell_type": "markdown",
   "metadata": {},
   "source": [
    "# Health\n",
    "We merge category health and global security health since they are much similar"
   ]
  },
  {
   "cell_type": "code",
   "execution_count": 15,
   "metadata": {
    "execution": {
     "iopub.execute_input": "2023-12-27T16:24:27.699190Z",
     "iopub.status.busy": "2023-12-27T16:24:27.698770Z",
     "iopub.status.idle": "2023-12-27T16:24:29.304025Z",
     "shell.execute_reply": "2023-12-27T16:24:29.303135Z",
     "shell.execute_reply.started": "2023-12-27T16:24:27.699151Z"
    }
   },
   "outputs": [],
   "source": [
    "with open(\"data/Health.json\", 'r') as file:\n",
    "    healthData = json.load(file)\n",
    "    \n",
    "with open(\"data/GlobalHealthSecurity.json\") as file:\n",
    "    healthSecurityData = json.load(file)"
   ]
  },
  {
   "cell_type": "code",
   "execution_count": 16,
   "metadata": {
    "execution": {
     "iopub.execute_input": "2023-12-27T16:24:29.305863Z",
     "iopub.status.busy": "2023-12-27T16:24:29.305426Z",
     "iopub.status.idle": "2023-12-27T16:24:29.312065Z",
     "shell.execute_reply": "2023-12-27T16:24:29.311051Z",
     "shell.execute_reply.started": "2023-12-27T16:24:29.305819Z"
    }
   },
   "outputs": [],
   "source": [
    "healthDoc = \"\"\n",
    "countDrop = 0"
   ]
  },
  {
   "cell_type": "code",
   "execution_count": 17,
   "metadata": {
    "execution": {
     "iopub.execute_input": "2023-12-27T16:24:29.313809Z",
     "iopub.status.busy": "2023-12-27T16:24:29.313511Z",
     "iopub.status.idle": "2023-12-27T16:26:49.345097Z",
     "shell.execute_reply": "2023-12-27T16:26:49.343987Z",
     "shell.execute_reply.started": "2023-12-27T16:24:29.313780Z"
    }
   },
   "outputs": [
    {
     "name": "stdout",
     "output_type": "stream",
     "text": [
      "Done\n",
      "Number of articles with None content is: 124\n",
      "Number of characters is 56519694\n"
     ]
    }
   ],
   "source": [
    "for key in healthData.keys():\n",
    "    if healthData[key]['Content'] != \"None\":\n",
    "        healthDoc += \" \" + preprocess(healthData[key]['Content'])\n",
    "    else:\n",
    "        countDrop += 1\n",
    "for key in healthSecurityData.keys():\n",
    "    if healthSecurityData[key]['Content'] != \"None\":\n",
    "        healthDoc += \" \" + preprocess(healthSecurityData[key]['Content'])\n",
    "    else:\n",
    "        countDrop += 1\n",
    "print(\"Done\")\n",
    "print(f\"Number of articles with None content is: {countDrop}\")\n",
    "print(f\"Number of characters is {len(healthDoc)}\")"
   ]
  },
  {
   "cell_type": "code",
   "execution_count": 18,
   "metadata": {
    "execution": {
     "iopub.execute_input": "2023-12-27T16:26:49.347062Z",
     "iopub.status.busy": "2023-12-27T16:26:49.346711Z",
     "iopub.status.idle": "2023-12-27T16:28:47.593146Z",
     "shell.execute_reply": "2023-12-27T16:28:47.592039Z",
     "shell.execute_reply.started": "2023-12-27T16:26:49.347030Z"
    }
   },
   "outputs": [
    {
     "name": "stdout",
     "output_type": "stream",
     "text": [
      "100\n"
     ]
    }
   ],
   "source": [
    "healthDict = mostFrequentWord(content = healthDoc)\n",
    "topHealth = getTopWord(healthDict, top_n)\n",
    "print(len(topHealth))"
   ]
  },
  {
   "cell_type": "markdown",
   "metadata": {},
   "source": [
    "# Football"
   ]
  },
  {
   "cell_type": "code",
   "execution_count": 19,
   "metadata": {
    "execution": {
     "iopub.execute_input": "2023-12-27T16:28:47.594817Z",
     "iopub.status.busy": "2023-12-27T16:28:47.594462Z",
     "iopub.status.idle": "2023-12-27T16:30:04.830138Z",
     "shell.execute_reply": "2023-12-27T16:30:04.829157Z",
     "shell.execute_reply.started": "2023-12-27T16:28:47.594787Z"
    }
   },
   "outputs": [
    {
     "name": "stdout",
     "output_type": "stream",
     "text": [
      "Number of articles with no content is 21\n"
     ]
    }
   ],
   "source": [
    "footballDict = mostFrequentWord(path = \"data/Football.json\")"
   ]
  },
  {
   "cell_type": "code",
   "execution_count": 20,
   "metadata": {
    "execution": {
     "iopub.execute_input": "2023-12-27T16:30:04.832197Z",
     "iopub.status.busy": "2023-12-27T16:30:04.831631Z",
     "iopub.status.idle": "2023-12-27T16:30:04.860273Z",
     "shell.execute_reply": "2023-12-27T16:30:04.859056Z",
     "shell.execute_reply.started": "2023-12-27T16:30:04.832163Z"
    }
   },
   "outputs": [],
   "source": [
    "topFootball = getTopWord(footballDict, top_n)"
   ]
  },
  {
   "cell_type": "code",
   "execution_count": 21,
   "metadata": {
    "execution": {
     "iopub.execute_input": "2023-12-27T16:30:04.862326Z",
     "iopub.status.busy": "2023-12-27T16:30:04.861839Z",
     "iopub.status.idle": "2023-12-27T16:30:04.870825Z",
     "shell.execute_reply": "2023-12-27T16:30:04.869736Z",
     "shell.execute_reply.started": "2023-12-27T16:30:04.862263Z"
    }
   },
   "outputs": [
    {
     "data": {
      "text/plain": [
       "100"
      ]
     },
     "execution_count": 21,
     "metadata": {},
     "output_type": "execute_result"
    }
   ],
   "source": [
    "len(topFootball)"
   ]
  },
  {
   "cell_type": "markdown",
   "metadata": {},
   "source": [
    "# Polictics"
   ]
  },
  {
   "cell_type": "code",
   "execution_count": 22,
   "metadata": {
    "execution": {
     "iopub.execute_input": "2023-12-27T16:30:04.872690Z",
     "iopub.status.busy": "2023-12-27T16:30:04.872343Z",
     "iopub.status.idle": "2023-12-27T16:31:24.156517Z",
     "shell.execute_reply": "2023-12-27T16:31:24.154741Z",
     "shell.execute_reply.started": "2023-12-27T16:30:04.872659Z"
    }
   },
   "outputs": [
    {
     "name": "stdout",
     "output_type": "stream",
     "text": [
      "Number of articles with no content is 39\n"
     ]
    }
   ],
   "source": [
    "politicsDict = mostFrequentWord(path = \"data/Politics.json\")"
   ]
  },
  {
   "cell_type": "code",
   "execution_count": 23,
   "metadata": {
    "execution": {
     "iopub.execute_input": "2023-12-27T16:31:24.158746Z",
     "iopub.status.busy": "2023-12-27T16:31:24.158373Z",
     "iopub.status.idle": "2023-12-27T16:31:24.186145Z",
     "shell.execute_reply": "2023-12-27T16:31:24.185121Z",
     "shell.execute_reply.started": "2023-12-27T16:31:24.158712Z"
    }
   },
   "outputs": [],
   "source": [
    "topPolitics = getTopWord(politicsDict, top_n)"
   ]
  },
  {
   "cell_type": "code",
   "execution_count": 24,
   "metadata": {
    "execution": {
     "iopub.execute_input": "2023-12-27T16:31:24.188979Z",
     "iopub.status.busy": "2023-12-27T16:31:24.188092Z",
     "iopub.status.idle": "2023-12-27T16:31:24.198117Z",
     "shell.execute_reply": "2023-12-27T16:31:24.197158Z",
     "shell.execute_reply.started": "2023-12-27T16:31:24.188931Z"
    }
   },
   "outputs": [
    {
     "data": {
      "text/plain": [
       "['minister',\n",
       " 'government',\n",
       " 'johnson',\n",
       " 'people',\n",
       " 'party',\n",
       " 'year',\n",
       " 'prime',\n",
       " 'tory',\n",
       " 'labour',\n",
       " 'tell',\n",
       " 'secretary',\n",
       " 'time',\n",
       " 'sunak',\n",
       " 'boris',\n",
       " 'work',\n",
       " 'think',\n",
       " 'plan',\n",
       " 'need',\n",
       " 'country',\n",
       " 'week',\n",
       " 'truss',\n",
       " 'leader',\n",
       " 'cent',\n",
       " 'support',\n",
       " 'want',\n",
       " 'public',\n",
       " 'election',\n",
       " 'home',\n",
       " 'right',\n",
       " 'vote',\n",
       " 'change',\n",
       " 'include',\n",
       " 'rule',\n",
       " 'office',\n",
       " 'face',\n",
       " 'rishi',\n",
       " 'ask',\n",
       " 'street',\n",
       " 'report',\n",
       " 'number',\n",
       " 'telegraph',\n",
       " 'month',\n",
       " 'claim',\n",
       " 'policy',\n",
       " 'cost',\n",
       " 'covid',\n",
       " 'credit',\n",
       " 'cabinet',\n",
       " 'warn',\n",
       " 'call',\n",
       " 'keir',\n",
       " 'britain',\n",
       " 'house',\n",
       " 'issue',\n",
       " 'member',\n",
       " 'ukraine',\n",
       " 'police',\n",
       " 'today',\n",
       " 'help',\n",
       " 'look',\n",
       " 'leadership',\n",
       " 'rise',\n",
       " 'decision',\n",
       " 'thing',\n",
       " 'mean',\n",
       " 'energy',\n",
       " 'health',\n",
       " 'place',\n",
       " 'business',\n",
       " 'chancellor',\n",
       " 'increase',\n",
       " 'deal',\n",
       " 'question',\n",
       " 'meet',\n",
       " 'force',\n",
       " 'case',\n",
       " 'service',\n",
       " 'committee',\n",
       " 'source',\n",
       " 'lord',\n",
       " 'state',\n",
       " 'ireland',\n",
       " 'official',\n",
       " 'spend',\n",
       " 'continue',\n",
       " 'point',\n",
       " 'brexit',\n",
       " 'speak',\n",
       " 'hold',\n",
       " 'world',\n",
       " 'crisis',\n",
       " 'campaign',\n",
       " 'write',\n",
       " 'concern',\n",
       " 'child',\n",
       " 'announce',\n",
       " 'group',\n",
       " 'family',\n",
       " 'staff',\n",
       " 'bring']"
      ]
     },
     "execution_count": 24,
     "metadata": {},
     "output_type": "execute_result"
    }
   ],
   "source": [
    "topPolitics"
   ]
  },
  {
   "cell_type": "markdown",
   "metadata": {},
   "source": [
    "# Science"
   ]
  },
  {
   "cell_type": "code",
   "execution_count": 25,
   "metadata": {
    "execution": {
     "iopub.execute_input": "2023-12-27T16:31:24.200072Z",
     "iopub.status.busy": "2023-12-27T16:31:24.199767Z",
     "iopub.status.idle": "2023-12-27T16:31:40.626452Z",
     "shell.execute_reply": "2023-12-27T16:31:40.625503Z",
     "shell.execute_reply.started": "2023-12-27T16:31:24.200045Z"
    }
   },
   "outputs": [
    {
     "name": "stdout",
     "output_type": "stream",
     "text": [
      "Number of articles with no content is 46\n"
     ]
    }
   ],
   "source": [
    "scienceDict = mostFrequentWord(path = \"data/Science.json\")"
   ]
  },
  {
   "cell_type": "code",
   "execution_count": 26,
   "metadata": {
    "execution": {
     "iopub.execute_input": "2023-12-27T16:31:40.631182Z",
     "iopub.status.busy": "2023-12-27T16:31:40.630357Z",
     "iopub.status.idle": "2023-12-27T16:31:40.658322Z",
     "shell.execute_reply": "2023-12-27T16:31:40.657445Z",
     "shell.execute_reply.started": "2023-12-27T16:31:40.631142Z"
    }
   },
   "outputs": [],
   "source": [
    "topScience = getTopWord(scienceDict, top_n)"
   ]
  },
  {
   "cell_type": "markdown",
   "metadata": {},
   "source": [
    "# Education"
   ]
  },
  {
   "cell_type": "code",
   "execution_count": 27,
   "metadata": {
    "execution": {
     "iopub.execute_input": "2023-12-27T16:31:40.660639Z",
     "iopub.status.busy": "2023-12-27T16:31:40.659671Z",
     "iopub.status.idle": "2023-12-27T16:31:49.723481Z",
     "shell.execute_reply": "2023-12-27T16:31:49.722456Z",
     "shell.execute_reply.started": "2023-12-27T16:31:40.660604Z"
    }
   },
   "outputs": [
    {
     "name": "stdout",
     "output_type": "stream",
     "text": [
      "Number of articles with no content is 1\n"
     ]
    }
   ],
   "source": [
    "educationDict = mostFrequentWord(path = \"data/Education.json\")"
   ]
  },
  {
   "cell_type": "code",
   "execution_count": 28,
   "metadata": {
    "execution": {
     "iopub.execute_input": "2023-12-27T16:31:49.729200Z",
     "iopub.status.busy": "2023-12-27T16:31:49.728863Z",
     "iopub.status.idle": "2023-12-27T16:31:49.757772Z",
     "shell.execute_reply": "2023-12-27T16:31:49.756656Z",
     "shell.execute_reply.started": "2023-12-27T16:31:49.729171Z"
    }
   },
   "outputs": [],
   "source": [
    "topEducation = getTopWord(educationDict, top_n)"
   ]
  },
  {
   "cell_type": "markdown",
   "metadata": {},
   "source": [
    "# Environment"
   ]
  },
  {
   "cell_type": "code",
   "execution_count": 29,
   "metadata": {
    "execution": {
     "iopub.execute_input": "2023-12-27T16:31:49.760045Z",
     "iopub.status.busy": "2023-12-27T16:31:49.759234Z",
     "iopub.status.idle": "2023-12-27T16:32:03.518735Z",
     "shell.execute_reply": "2023-12-27T16:32:03.517800Z",
     "shell.execute_reply.started": "2023-12-27T16:31:49.760001Z"
    }
   },
   "outputs": [
    {
     "name": "stdout",
     "output_type": "stream",
     "text": [
      "Number of articles with no content is 10\n"
     ]
    }
   ],
   "source": [
    "environmentDict = mostFrequentWord(path = \"data/Environment.json\")"
   ]
  },
  {
   "cell_type": "code",
   "execution_count": 30,
   "metadata": {
    "execution": {
     "iopub.execute_input": "2023-12-27T16:32:03.520628Z",
     "iopub.status.busy": "2023-12-27T16:32:03.520175Z",
     "iopub.status.idle": "2023-12-27T16:32:03.548246Z",
     "shell.execute_reply": "2023-12-27T16:32:03.547193Z",
     "shell.execute_reply.started": "2023-12-27T16:32:03.520584Z"
    }
   },
   "outputs": [],
   "source": [
    "topEnvironment = getTopWord(environmentDict, top_n)"
   ]
  },
  {
   "cell_type": "code",
   "execution_count": null,
   "metadata": {},
   "outputs": [],
   "source": []
  },
  {
   "cell_type": "markdown",
   "metadata": {},
   "source": [
    "# Technology"
   ]
  },
  {
   "cell_type": "code",
   "execution_count": 31,
   "metadata": {
    "execution": {
     "iopub.execute_input": "2023-12-27T16:32:03.549697Z",
     "iopub.status.busy": "2023-12-27T16:32:03.549395Z",
     "iopub.status.idle": "2023-12-27T16:33:10.588219Z",
     "shell.execute_reply": "2023-12-27T16:33:10.587247Z",
     "shell.execute_reply.started": "2023-12-27T16:32:03.549670Z"
    }
   },
   "outputs": [
    {
     "name": "stdout",
     "output_type": "stream",
     "text": [
      "Number of articles with no content is 78\n"
     ]
    }
   ],
   "source": [
    "technologyDict = mostFrequentWord(path = \"data/Technology.json\")"
   ]
  },
  {
   "cell_type": "code",
   "execution_count": 32,
   "metadata": {
    "execution": {
     "iopub.execute_input": "2023-12-27T16:33:10.589873Z",
     "iopub.status.busy": "2023-12-27T16:33:10.589558Z",
     "iopub.status.idle": "2023-12-27T16:33:10.615072Z",
     "shell.execute_reply": "2023-12-27T16:33:10.614197Z",
     "shell.execute_reply.started": "2023-12-27T16:33:10.589845Z"
    }
   },
   "outputs": [],
   "source": [
    "topTechnology = getTopWord(technologyDict, top_n)"
   ]
  },
  {
   "cell_type": "code",
   "execution_count": null,
   "metadata": {},
   "outputs": [],
   "source": []
  },
  {
   "cell_type": "markdown",
   "metadata": {},
   "source": [
    "# Culture"
   ]
  },
  {
   "cell_type": "code",
   "execution_count": 33,
   "metadata": {
    "execution": {
     "iopub.execute_input": "2023-12-27T16:33:10.616721Z",
     "iopub.status.busy": "2023-12-27T16:33:10.616422Z",
     "iopub.status.idle": "2023-12-27T16:34:30.525329Z",
     "shell.execute_reply": "2023-12-27T16:34:30.524123Z",
     "shell.execute_reply.started": "2023-12-27T16:33:10.616695Z"
    }
   },
   "outputs": [
    {
     "name": "stdout",
     "output_type": "stream",
     "text": [
      "Number of articles with no content is 5961\n"
     ]
    }
   ],
   "source": [
    "cultureDict = mostFrequentWord(path = \"data/Culture.json\")"
   ]
  },
  {
   "cell_type": "code",
   "execution_count": 34,
   "metadata": {
    "execution": {
     "iopub.execute_input": "2023-12-27T16:34:30.528030Z",
     "iopub.status.busy": "2023-12-27T16:34:30.526924Z",
     "iopub.status.idle": "2023-12-27T16:34:30.556457Z",
     "shell.execute_reply": "2023-12-27T16:34:30.555523Z",
     "shell.execute_reply.started": "2023-12-27T16:34:30.527979Z"
    }
   },
   "outputs": [],
   "source": [
    "topCulture = getTopWord(cultureDict, top_n)"
   ]
  },
  {
   "cell_type": "code",
   "execution_count": 35,
   "metadata": {
    "execution": {
     "iopub.execute_input": "2023-12-27T16:34:30.558166Z",
     "iopub.status.busy": "2023-12-27T16:34:30.557851Z",
     "iopub.status.idle": "2023-12-27T16:34:30.565756Z",
     "shell.execute_reply": "2023-12-27T16:34:30.564641Z",
     "shell.execute_reply.started": "2023-12-27T16:34:30.558137Z"
    }
   },
   "outputs": [
    {
     "data": {
      "text/plain": [
       "['year',\n",
       " 'time',\n",
       " 'film',\n",
       " 'credit',\n",
       " 'work',\n",
       " 'people',\n",
       " 'think',\n",
       " 'play',\n",
       " 'write',\n",
       " 'life',\n",
       " 'tell',\n",
       " 'thing',\n",
       " 'world',\n",
       " 'want',\n",
       " 'look',\n",
       " 'music',\n",
       " 'book',\n",
       " 'love',\n",
       " 'star',\n",
       " 'feel',\n",
       " 'story',\n",
       " 'woman',\n",
       " 'series',\n",
       " 'song',\n",
       " 'week',\n",
       " 'london',\n",
       " 'turn',\n",
       " 'child',\n",
       " 'right',\n",
       " 'need',\n",
       " 'start',\n",
       " 'include',\n",
       " 'call',\n",
       " 'record',\n",
       " 'point',\n",
       " 'family',\n",
       " 'home',\n",
       " 'mean',\n",
       " 'artist',\n",
       " 'character',\n",
       " 'actor',\n",
       " 'read',\n",
       " 'show',\n",
       " 'place',\n",
       " 'house',\n",
       " 'album',\n",
       " 'theatre',\n",
       " 'audience',\n",
       " 'watch',\n",
       " 'dance',\n",
       " 'change',\n",
       " 'talk',\n",
       " 'night',\n",
       " 'band',\n",
       " 'friend',\n",
       " 'begin',\n",
       " 'john',\n",
       " 'release',\n",
       " 'director',\n",
       " 'bring',\n",
       " 'sound',\n",
       " 'moment',\n",
       " 'month',\n",
       " 'role',\n",
       " 'line',\n",
       " 'face',\n",
       " 'scene',\n",
       " 'help',\n",
       " 'hear',\n",
       " 'drama',\n",
       " 'idea',\n",
       " 'death',\n",
       " 'try',\n",
       " 'kind',\n",
       " 'stage',\n",
       " 'novel',\n",
       " 'father',\n",
       " 'word',\n",
       " 'hand',\n",
       " 'head',\n",
       " 'ask',\n",
       " 'rock',\n",
       " 'fact',\n",
       " 'school',\n",
       " 'history',\n",
       " 'experience',\n",
       " 'speak',\n",
       " 'career',\n",
       " 'cast',\n",
       " 'day',\n",
       " 'wasn',\n",
       " 'performance',\n",
       " 'writer',\n",
       " 'mother',\n",
       " 'production',\n",
       " 'public',\n",
       " 'break',\n",
       " 'picture',\n",
       " 'course',\n",
       " 'return']"
      ]
     },
     "execution_count": 35,
     "metadata": {},
     "output_type": "execute_result"
    }
   ],
   "source": [
    "topCulture"
   ]
  },
  {
   "cell_type": "markdown",
   "metadata": {},
   "source": [
    "# Travel"
   ]
  },
  {
   "cell_type": "code",
   "execution_count": 36,
   "metadata": {
    "execution": {
     "iopub.execute_input": "2023-12-27T16:34:30.567963Z",
     "iopub.status.busy": "2023-12-27T16:34:30.567415Z",
     "iopub.status.idle": "2023-12-27T16:36:44.624823Z",
     "shell.execute_reply": "2023-12-27T16:36:44.623449Z",
     "shell.execute_reply.started": "2023-12-27T16:34:30.567931Z"
    }
   },
   "outputs": [
    {
     "name": "stdout",
     "output_type": "stream",
     "text": [
      "Number of articles with no content is 38\n"
     ]
    }
   ],
   "source": [
    "travelDict = mostFrequentWord(path = \"data/Travel.json\")"
   ]
  },
  {
   "cell_type": "code",
   "execution_count": 37,
   "metadata": {
    "execution": {
     "iopub.execute_input": "2023-12-27T16:36:44.626855Z",
     "iopub.status.busy": "2023-12-27T16:36:44.626476Z",
     "iopub.status.idle": "2023-12-27T16:36:44.652894Z",
     "shell.execute_reply": "2023-12-27T16:36:44.651769Z",
     "shell.execute_reply.started": "2023-12-27T16:36:44.626817Z"
    }
   },
   "outputs": [],
   "source": [
    "topTravel = getTopWord(travelDict, top_n)"
   ]
  },
  {
   "cell_type": "code",
   "execution_count": 38,
   "metadata": {
    "execution": {
     "iopub.execute_input": "2023-12-27T16:36:44.654594Z",
     "iopub.status.busy": "2023-12-27T16:36:44.654222Z",
     "iopub.status.idle": "2023-12-27T16:36:44.661603Z",
     "shell.execute_reply": "2023-12-27T16:36:44.660803Z",
     "shell.execute_reply.started": "2023-12-27T16:36:44.654563Z"
    }
   },
   "outputs": [
    {
     "data": {
      "text/plain": [
       "['hotel',\n",
       " 'travel',\n",
       " 'credit',\n",
       " 'year',\n",
       " 'holiday',\n",
       " 'book',\n",
       " 'country',\n",
       " 'time',\n",
       " 'include',\n",
       " 'night',\n",
       " 'test',\n",
       " 'rat',\n",
       " 'expert',\n",
       " 'people',\n",
       " 'room',\n",
       " 'city',\n",
       " 'island',\n",
       " 'place',\n",
       " 'offer',\n",
       " 'beach',\n",
       " 'flight',\n",
       " 'covid',\n",
       " 'restaurant',\n",
       " 'read',\n",
       " 'world',\n",
       " 'stay',\n",
       " 'home',\n",
       " 'week',\n",
       " 'provide',\n",
       " 'visit',\n",
       " 'family',\n",
       " 'look',\n",
       " 'check',\n",
       " 'list',\n",
       " 'resort',\n",
       " 'need',\n",
       " 'telegraph',\n",
       " 'house',\n",
       " 'summer',\n",
       " 'price',\n",
       " 'cruise',\n",
       " 'getty',\n",
       " 'government',\n",
       " 'view',\n",
       " 'review',\n",
       " 'quarantine',\n",
       " 'trip',\n",
       " 'day',\n",
       " 'hour',\n",
       " 'park',\n",
       " 'town',\n",
       " 'work',\n",
       " 'area',\n",
       " 'walk',\n",
       " 'case',\n",
       " 'return',\n",
       " 'month',\n",
       " 'build',\n",
       " 'plan',\n",
       " 'destination',\n",
       " 'start',\n",
       " 'traveller',\n",
       " 'south',\n",
       " 'tour',\n",
       " 'availability',\n",
       " 'london',\n",
       " 'airport',\n",
       " 'restriction',\n",
       " 'tourist',\n",
       " 'passenger',\n",
       " 'water',\n",
       " 'head',\n",
       " 'cost',\n",
       " 'pool',\n",
       " 'want',\n",
       " 'guide',\n",
       " 'experience',\n",
       " 'century',\n",
       " 'lockdown',\n",
       " 'think',\n",
       " 'feel',\n",
       " 'village',\n",
       " 'cent',\n",
       " 'mean',\n",
       " 'thing',\n",
       " 'visitor',\n",
       " 'rule',\n",
       " 'number',\n",
       " 'tell',\n",
       " 'star',\n",
       " 'child',\n",
       " 'mountain',\n",
       " 'change',\n",
       " 'mile',\n",
       " 'service',\n",
       " 'food',\n",
       " 'guest',\n",
       " 'france',\n",
       " 'line',\n",
       " 'garden']"
      ]
     },
     "execution_count": 38,
     "metadata": {},
     "output_type": "execute_result"
    }
   ],
   "source": [
    "topTravel"
   ]
  },
  {
   "cell_type": "markdown",
   "metadata": {},
   "source": [
    "# Style"
   ]
  },
  {
   "cell_type": "code",
   "execution_count": 39,
   "metadata": {
    "execution": {
     "iopub.execute_input": "2023-12-27T16:36:44.663396Z",
     "iopub.status.busy": "2023-12-27T16:36:44.662851Z",
     "iopub.status.idle": "2023-12-27T16:37:25.896357Z",
     "shell.execute_reply": "2023-12-27T16:37:25.895445Z",
     "shell.execute_reply.started": "2023-12-27T16:36:44.663363Z"
    }
   },
   "outputs": [
    {
     "name": "stdout",
     "output_type": "stream",
     "text": [
      "Number of articles with no content is 17\n"
     ]
    }
   ],
   "source": [
    "styleDict = mostFrequentWord(path = \"data/Style.json\")"
   ]
  },
  {
   "cell_type": "code",
   "execution_count": 40,
   "metadata": {
    "execution": {
     "iopub.execute_input": "2023-12-27T16:37:25.898188Z",
     "iopub.status.busy": "2023-12-27T16:37:25.897859Z",
     "iopub.status.idle": "2023-12-27T16:37:25.924907Z",
     "shell.execute_reply": "2023-12-27T16:37:25.923783Z",
     "shell.execute_reply.started": "2023-12-27T16:37:25.898162Z"
    }
   },
   "outputs": [],
   "source": [
    "topStyle = getTopWord(styleDict, top_n)"
   ]
  },
  {
   "cell_type": "code",
   "execution_count": 41,
   "metadata": {
    "execution": {
     "iopub.execute_input": "2023-12-27T16:37:25.927173Z",
     "iopub.status.busy": "2023-12-27T16:37:25.926435Z",
     "iopub.status.idle": "2023-12-27T16:37:25.934262Z",
     "shell.execute_reply": "2023-12-27T16:37:25.933527Z",
     "shell.execute_reply.started": "2023-12-27T16:37:25.927127Z"
    }
   },
   "outputs": [
    {
     "data": {
      "text/plain": [
       "['look',\n",
       " 'wear',\n",
       " 'dress',\n",
       " 'year',\n",
       " 'credit',\n",
       " 'fashion',\n",
       " 'time',\n",
       " 'work',\n",
       " 'style',\n",
       " 'brand',\n",
       " 'want',\n",
       " 'colour',\n",
       " 'think',\n",
       " 'feel',\n",
       " 'woman',\n",
       " 'design',\n",
       " 'hair',\n",
       " 'home',\n",
       " 'house',\n",
       " 'need',\n",
       " 'people',\n",
       " 'love',\n",
       " 'thing',\n",
       " 'getty',\n",
       " 'clothe',\n",
       " 'shirt',\n",
       " 'piece',\n",
       " 'london',\n",
       " 'suit',\n",
       " 'collection',\n",
       " 'designer',\n",
       " 'skin',\n",
       " 'include',\n",
       " 'post',\n",
       " 'world',\n",
       " 'right',\n",
       " 'week',\n",
       " 'room',\n",
       " 'create',\n",
       " 'start',\n",
       " 'instagram',\n",
       " 'life',\n",
       " 'pair',\n",
       " 'beauty',\n",
       " 'coat',\n",
       " 'wardrobe',\n",
       " 'image',\n",
       " 'trouser',\n",
       " 'family',\n",
       " 'jacket',\n",
       " 'mean',\n",
       " 'summer',\n",
       " 'face',\n",
       " 'place',\n",
       " 'help',\n",
       " 'shop',\n",
       " 'queen',\n",
       " 'month',\n",
       " 'light',\n",
       " 'hand',\n",
       " 'tell',\n",
       " 'royal',\n",
       " 'princess',\n",
       " 'outfit',\n",
       " 'sell',\n",
       " 'offer',\n",
       " 'wed',\n",
       " 'product',\n",
       " 'change',\n",
       " 'luxury',\n",
       " 'model',\n",
       " 'share',\n",
       " 'street',\n",
       " 'jean',\n",
       " 'skirt',\n",
       " 'telegraph',\n",
       " 'print',\n",
       " 'gold',\n",
       " 'point',\n",
       " 'view',\n",
       " 'watch',\n",
       " 'boot',\n",
       " 'shoe',\n",
       " 'line',\n",
       " 'price',\n",
       " 'body',\n",
       " 'friend',\n",
       " 'turn',\n",
       " 'space',\n",
       " 'favourite',\n",
       " 'duchess',\n",
       " 'leather',\n",
       " 'star',\n",
       " 'day',\n",
       " 'spend',\n",
       " 'diamond',\n",
       " 'size',\n",
       " 'season',\n",
       " 'build',\n",
       " 'pink']"
      ]
     },
     "execution_count": 41,
     "metadata": {},
     "output_type": "execute_result"
    }
   ],
   "source": [
    "topStyle"
   ]
  },
  {
   "cell_type": "code",
   "execution_count": null,
   "metadata": {},
   "outputs": [],
   "source": []
  },
  {
   "cell_type": "markdown",
   "metadata": {},
   "source": [
    "# Model"
   ]
  },
  {
   "cell_type": "code",
   "execution_count": 42,
   "metadata": {
    "execution": {
     "iopub.execute_input": "2023-12-27T16:37:25.935886Z",
     "iopub.status.busy": "2023-12-27T16:37:25.935560Z",
     "iopub.status.idle": "2023-12-27T16:38:27.538917Z",
     "shell.execute_reply": "2023-12-27T16:38:27.537727Z",
     "shell.execute_reply.started": "2023-12-27T16:37:25.935856Z"
    }
   },
   "outputs": [],
   "source": [
    "# Load Word2Vec model\n",
    "import gensim\n",
    "model = gensim.models.KeyedVectors.load_word2vec_format('/kaggle/input/googlenewsvectorsnegative300/GoogleNews-vectors-negative300.bin', binary=True)"
   ]
  },
  {
   "cell_type": "code",
   "execution_count": 43,
   "metadata": {
    "execution": {
     "iopub.execute_input": "2023-12-27T16:38:27.542638Z",
     "iopub.status.busy": "2023-12-27T16:38:27.540195Z",
     "iopub.status.idle": "2023-12-27T16:38:27.549119Z",
     "shell.execute_reply": "2023-12-27T16:38:27.547838Z",
     "shell.execute_reply.started": "2023-12-27T16:38:27.542594Z"
    }
   },
   "outputs": [],
   "source": [
    "#Create wordDict to store K characteristics words of each category\n",
    "wordDict = []\n",
    "wordDict.append(topBusiness)\n",
    "wordDict.append(topCulture)\n",
    "wordDict.append(topEducation)\n",
    "wordDict.append(topEnvironment)\n",
    "wordDict.append(topFootball)\n",
    "wordDict.append(topHealth)\n",
    "wordDict.append(topPolitics)\n",
    "wordDict.append(topScience)\n",
    "wordDict.append(topStyle)\n",
    "wordDict.append(topTechnology)\n",
    "wordDict.append(topTravel)\n"
   ]
  },
  {
   "cell_type": "code",
   "execution_count": 44,
   "metadata": {
    "execution": {
     "iopub.execute_input": "2023-12-27T16:38:27.551463Z",
     "iopub.status.busy": "2023-12-27T16:38:27.550779Z",
     "iopub.status.idle": "2023-12-27T16:38:27.563236Z",
     "shell.execute_reply": "2023-12-27T16:38:27.562200Z",
     "shell.execute_reply.started": "2023-12-27T16:38:27.551421Z"
    }
   },
   "outputs": [],
   "source": [
    "#Function to get category of an article after we extract its frequent words\n",
    "def getCategory(key):\n",
    "    scoreLst = []\n",
    "    for wordLst in wordDict:\n",
    "        countt = 0\n",
    "        total = 0\n",
    "        for word in key:\n",
    "            for word2 in wordLst:\n",
    "                try:\n",
    "                    total += model.similarity(word[0], word2)\n",
    "                    countt += 1\n",
    "                except: \n",
    "                    continue\n",
    "\n",
    "        scoreLst.append(total/countt)\n",
    "    argmax = scoreLst.index(max(scoreLst))\n",
    "    return argmax, scoreLst"
   ]
  },
  {
   "cell_type": "markdown",
   "metadata": {},
   "source": [
    "# Test"
   ]
  },
  {
   "cell_type": "code",
   "execution_count": 48,
   "metadata": {
    "execution": {
     "iopub.execute_input": "2023-12-27T16:39:12.918744Z",
     "iopub.status.busy": "2023-12-27T16:39:12.917822Z",
     "iopub.status.idle": "2023-12-27T16:39:12.926889Z",
     "shell.execute_reply": "2023-12-27T16:39:12.925431Z",
     "shell.execute_reply.started": "2023-12-27T16:39:12.918694Z"
    }
   },
   "outputs": [],
   "source": [
    "# Funtion to test\n",
    "def test(test_size = 50):\n",
    "    labels = []\n",
    "    predictions = []\n",
    "    for data in dataList:\n",
    "        testSize = list(range(1, len(data.keys())))\n",
    "        random_elements = random.sample(testSize, test_size)       \n",
    "        countt = 0\n",
    "        noneContent = 0\n",
    "        for i in random_elements:\n",
    "            docs = data[f\"{i}\"]['Content']\n",
    "            if docs == \"None\":\n",
    "                noneContent += 1\n",
    "                continue\n",
    "            else:\n",
    "                docWord = mostFrequentWord(content = preprocess(docs))\n",
    "                key = docWord[:50]\n",
    "                ans = getCategory(key)\n",
    "                if ans[0] == dataList.index(data):\n",
    "                    countt += 1\n",
    "            labels.append(dataList.index(data))\n",
    "            predictions.append(ans[0])\n",
    "    return labels, predictions"
   ]
  },
  {
   "cell_type": "code",
   "execution_count": 46,
   "metadata": {
    "execution": {
     "iopub.execute_input": "2023-12-27T16:38:27.612743Z",
     "iopub.status.busy": "2023-12-27T16:38:27.612395Z",
     "iopub.status.idle": "2023-12-27T16:38:27.617861Z",
     "shell.execute_reply": "2023-12-27T16:38:27.616738Z",
     "shell.execute_reply.started": "2023-12-27T16:38:27.612711Z"
    }
   },
   "outputs": [],
   "source": [
    "dataList = [businessData, cultureData, educationData, environmentData, footballData, healthData, politicsData, scienceData, styleData, technologyData, travelData]\n",
    "name = ['Business', 'Culture', 'Education', 'Environment', 'Football', 'Health', 'Politics', 'Science', 'Style', 'Technology', 'Travel']\n"
   ]
  },
  {
   "cell_type": "code",
   "execution_count": 51,
   "metadata": {
    "execution": {
     "iopub.execute_input": "2023-12-27T16:40:17.462541Z",
     "iopub.status.busy": "2023-12-27T16:40:17.461969Z",
     "iopub.status.idle": "2023-12-27T16:41:43.162252Z",
     "shell.execute_reply": "2023-12-27T16:41:43.161361Z",
     "shell.execute_reply.started": "2023-12-27T16:40:17.462503Z"
    }
   },
   "outputs": [],
   "source": [
    "label, prediction = test(10)"
   ]
  },
  {
   "cell_type": "code",
   "execution_count": 52,
   "metadata": {
    "execution": {
     "iopub.execute_input": "2023-12-27T16:41:43.164996Z",
     "iopub.status.busy": "2023-12-27T16:41:43.164047Z",
     "iopub.status.idle": "2023-12-27T16:41:43.179100Z",
     "shell.execute_reply": "2023-12-27T16:41:43.178221Z",
     "shell.execute_reply.started": "2023-12-27T16:41:43.164958Z"
    }
   },
   "outputs": [
    {
     "name": "stdout",
     "output_type": "stream",
     "text": [
      "              precision    recall  f1-score   support\n",
      "\n",
      "    Business       0.89      0.73      0.80        11\n",
      "     Culture       1.00      0.50      0.67        14\n",
      "   Education       1.00      0.91      0.95        11\n",
      " Environment       0.70      0.64      0.67        11\n",
      "    Football       0.90      0.82      0.86        11\n",
      "      Health       0.20      0.40      0.27         5\n",
      "    Politics       0.60      0.46      0.52        13\n",
      "     Science       0.50      0.62      0.56         8\n",
      "       Style       0.90      0.75      0.82        12\n",
      "  Technology       0.30      0.75      0.43         4\n",
      "      Travel       0.50      0.83      0.62         6\n",
      "\n",
      "    accuracy                           0.67       106\n",
      "   macro avg       0.68      0.67      0.65       106\n",
      "weighted avg       0.76      0.67      0.69       106\n",
      "\n"
     ]
    }
   ],
   "source": [
    "print(classification_report(prediction, label, target_names = name))"
   ]
  },
  {
   "cell_type": "markdown",
   "metadata": {},
   "source": [
    "# Inference"
   ]
  },
  {
   "cell_type": "code",
   "execution_count": 53,
   "metadata": {
    "execution": {
     "iopub.execute_input": "2023-12-27T16:41:43.181338Z",
     "iopub.status.busy": "2023-12-27T16:41:43.180384Z",
     "iopub.status.idle": "2023-12-27T16:41:43.186391Z",
     "shell.execute_reply": "2023-12-27T16:41:43.185341Z",
     "shell.execute_reply.started": "2023-12-27T16:41:43.181302Z"
    }
   },
   "outputs": [],
   "source": [
    "def infer(docs):\n",
    "    key = mostFrequentWord(content = preprocess(docs))\n",
    "    ind, score = getCategory(key)\n",
    "    print(f\"This article is in {cateName[ind]} category\")\n",
    "    return ind, score"
   ]
  },
  {
   "cell_type": "code",
   "execution_count": 54,
   "metadata": {
    "execution": {
     "iopub.execute_input": "2023-12-27T16:41:43.188984Z",
     "iopub.status.busy": "2023-12-27T16:41:43.188640Z",
     "iopub.status.idle": "2023-12-27T16:41:43.196748Z",
     "shell.execute_reply": "2023-12-27T16:41:43.194552Z",
     "shell.execute_reply.started": "2023-12-27T16:41:43.188954Z"
    }
   },
   "outputs": [],
   "source": [
    "cateName = ['Business', 'Culture', 'Education', 'Environment', 'Football', 'Health', 'Politics', 'Science', 'Style', 'Technology', 'Travel']\n"
   ]
  },
  {
   "cell_type": "code",
   "execution_count": 55,
   "metadata": {
    "execution": {
     "iopub.execute_input": "2023-12-27T16:41:43.198859Z",
     "iopub.status.busy": "2023-12-27T16:41:43.198495Z",
     "iopub.status.idle": "2023-12-27T16:41:43.205424Z",
     "shell.execute_reply": "2023-12-27T16:41:43.204532Z",
     "shell.execute_reply.started": "2023-12-27T16:41:43.198829Z"
    }
   },
   "outputs": [],
   "source": [
    "### Enter content of an article\n",
    "\n",
    "docs = \"\"\"In the old days, there were the FAANGs, the five big US tech stocks that dominated the investment landscape – Facebook (now Meta), Amazon, Apple, Netflix and Google (now Alphabet). That picture is now out of date. Say hello instead to what is variously called the Super Seven or the Magnificent Seven – four of the above (the dropout being Netflix) plus Microsoft, Tesla and the chip-maker Nvidia. This group’s domination is the stock market story of 2023.\n",
    "\n",
    "The chart below is “one for the ages”, says Duncan Lamont, the head of strategic research at the fund manager Schroders. It shows how, even if you invest via one of the broadest and most widely used “global” stock market indices, you will end up with a portfolio that is very American and very skewed towards US tech.\n",
    "\n",
    "The index is the MSCI All Country World Index (ACWI), which covers approximately 85% of “the global investable equity opportunity”, as the compilers put it, by measuring almost 3,000 large and mid-sized companies in 23 developed markets and 24 emerging ones. The bigger a company becomes in value, the greater its weighting in the index.The numbers have become so astonishing, in part, because of what is shown in the second chart. Up to last week, the group of seven has risen in value by 74% in 2023. The rest of the world’s equities, within the same ACWI index, have managed 12%. If your portfolio did not include the Magnificent Seven in 2023, it was hard to keep up.\n",
    "\n",
    "Is this degree of concentration healthy? It’s certainly unprecedented. Thanks to the whoosh from the seven during 2023, US stocks now account for 63% of the supposedly global ACWI. Even in the go-go days of the Japanese economic miracle, the country accounted for only 44% of the same index. “The US has far exceeded the level of concentration of Japan in the 1980s, which everyone thought was extreme at the time,” says Lamont.Yet it would be hard to argue that the rise of the seven has been fuelled by the type of wild speculation that created the turn-of-the-century dotcom bubble. The 240% rise in Nvidia’s stock price this year may or may not be overdone, but it’s undeniable that the company’s order book for computer chips is booming as the artificial intelligence (AI) revolution arrives.\n",
    "\n",
    "It would also be wrong to think of the seven as entirely alike. All have leading positions in growing markets and Amazon, Google and Microsoft have big cloud services divisions. But Amazon’s retail division has little in common with Google’s search business and Microsoft’s core software business is different again. All may benefit from AI, which helps to explain the stock market’s renewed love affair with technology in 2023 after a heavy “down” year in 2022, but the degrees will differ. Tesla remains, primarily, a maker of electric vehicles.\"\"\""
   ]
  },
  {
   "cell_type": "code",
   "execution_count": 56,
   "metadata": {
    "execution": {
     "iopub.execute_input": "2023-12-27T16:41:43.207354Z",
     "iopub.status.busy": "2023-12-27T16:41:43.207014Z",
     "iopub.status.idle": "2023-12-27T16:41:45.595358Z",
     "shell.execute_reply": "2023-12-27T16:41:45.594335Z",
     "shell.execute_reply.started": "2023-12-27T16:41:43.207322Z"
    }
   },
   "outputs": [
    {
     "name": "stdout",
     "output_type": "stream",
     "text": [
      "This article is in Business category\n"
     ]
    },
    {
     "data": {
      "text/plain": [
       "(0,\n",
       " [0.09341262750253389,\n",
       "  0.08102950812606095,\n",
       "  0.0786857995416624,\n",
       "  0.0863375881468453,\n",
       "  0.07636080529179111,\n",
       "  0.07953556176170777,\n",
       "  0.08052936722600523,\n",
       "  0.08117637550019245,\n",
       "  0.081362155994441,\n",
       "  0.09101626295824473,\n",
       "  0.07722635968033263])"
      ]
     },
     "execution_count": 56,
     "metadata": {},
     "output_type": "execute_result"
    }
   ],
   "source": [
    "infer(docs)"
   ]
  },
  {
   "cell_type": "code",
   "execution_count": 68,
   "metadata": {
    "execution": {
     "iopub.execute_input": "2023-12-27T16:10:22.708262Z",
     "iopub.status.busy": "2023-12-27T16:10:22.707590Z",
     "iopub.status.idle": "2023-12-27T16:10:25.093279Z",
     "shell.execute_reply": "2023-12-27T16:10:25.092392Z",
     "shell.execute_reply.started": "2023-12-27T16:10:22.708226Z"
    }
   },
   "outputs": [],
   "source": []
  },
  {
   "cell_type": "code",
   "execution_count": null,
   "metadata": {},
   "outputs": [],
   "source": []
  },
  {
   "cell_type": "code",
   "execution_count": null,
   "metadata": {},
   "outputs": [],
   "source": []
  },
  {
   "cell_type": "code",
   "execution_count": null,
   "metadata": {},
   "outputs": [],
   "source": []
  }
 ],
 "metadata": {
  "kaggle": {
   "accelerator": "none",
   "dataSources": [
    {
     "datasetId": 6763,
     "sourceId": 9801,
     "sourceType": "datasetVersion"
    },
    {
     "datasetId": 4050043,
     "sourceId": 7039490,
     "sourceType": "datasetVersion"
    },
    {
     "datasetId": 4214233,
     "sourceId": 7269921,
     "sourceType": "datasetVersion"
    },
    {
     "datasetId": 4221505,
     "sourceId": 7280807,
     "sourceType": "datasetVersion"
    }
   ],
   "dockerImageVersionId": 30615,
   "isGpuEnabled": false,
   "isInternetEnabled": true,
   "language": "python",
   "sourceType": "notebook"
  },
  "kernelspec": {
   "display_name": "Python 3 (ipykernel)",
   "language": "python",
   "name": "python3"
  },
  "language_info": {
   "codemirror_mode": {
    "name": "ipython",
    "version": 3
   },
   "file_extension": ".py",
   "mimetype": "text/x-python",
   "name": "python",
   "nbconvert_exporter": "python",
   "pygments_lexer": "ipython3",
   "version": "3.9.13"
  }
 },
 "nbformat": 4,
 "nbformat_minor": 4
}
